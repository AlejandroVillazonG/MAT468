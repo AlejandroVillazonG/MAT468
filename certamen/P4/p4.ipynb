{
 "cells": [
  {
   "cell_type": "markdown",
   "metadata": {},
   "source": [
    "Importamos las librerías necesarias."
   ]
  },
  {
   "cell_type": "code",
   "execution_count": 19,
   "metadata": {},
   "outputs": [],
   "source": [
    "import numpy as np\n",
    "import matplotlib.pyplot as plt\n",
    "import seaborn as sns"
   ]
  },
  {
   "cell_type": "markdown",
   "metadata": {},
   "source": [
    "Creamos una clase `Interruptor` que tiene como métodos `verificar_vida`, `aplicar_dano`, `cant_fallos`, entre otras."
   ]
  },
  {
   "cell_type": "code",
   "execution_count": 48,
   "metadata": {},
   "outputs": [],
   "source": [
    "class Interruptor:\n",
    "    def __init__(self):\n",
    "        self.dano = np.zeros(5) \n",
    "        self.dano_historial = []\n",
    "\n",
    "    def verificar_vida(self):\n",
    "        return not all(self.dano > 100)\n",
    "\n",
    "    def aplicar_dano(self, retornar = False):\n",
    "        if not self.verificar_vida():\n",
    "            print(\"Todas las componentes están muertas. No se puede aplicar más daño.\")\n",
    "            return None\n",
    "        \n",
    "        alpha = np.random.uniform(0.75, 1.5)\n",
    "        beta  = np.random.uniform(2.75, 3.25)\n",
    "        dano  = 10 * np.random.beta(alpha, beta)\n",
    "        self.dano_historial.append(dano)\n",
    "        \n",
    "        comp_danables  = np.where(self.dano < 100)[0]  # índices\n",
    "        n_comp_a_danar = np.random.randint(1, len(comp_danables)+1)\n",
    "        \n",
    "        comp_a_danar = np.argsort(self.dano[comp_danables])[:n_comp_a_danar]\n",
    "        \n",
    "        self.dano[comp_danables[comp_a_danar]] += dano/n_comp_a_danar\n",
    "        \n",
    "        if any(self.dano > 100):\n",
    "            print(f'Hay {len(np.where(self.dano > 100)[0])} componente(s) muerta(s).')\n",
    "        \n",
    "        return self.dano_historial if retornar else None \n",
    "        \n",
    "    def mostrar_dano(self):\n",
    "        print(f'Daño actual a las componentes: {self.dano}')\n",
    "        \n",
    "    def mostrar_vida(self):\n",
    "        print(f'Vida actual de las componentes: {100-self.dano}')\n",
    "        \n",
    "    def cant_fallos(self):\n",
    "        (\n",
    "            print(f'El equipo lleva {len(self.dano_historial)} fallos, continua operativo.')\n",
    "            if self.verificar_vida() else \n",
    "            print(f'El equipo soportó {len(self.dano_historial)} fallos, se encuentra inoperativo.') \n",
    "        )"
   ]
  },
  {
   "cell_type": "code",
   "execution_count": 55,
   "metadata": {},
   "outputs": [
    {
     "name": "stdout",
     "output_type": "stream",
     "text": [
      "Vida actual de las componentes: [100. 100. 100. 100. 100.]\n"
     ]
    }
   ],
   "source": [
    "interruptor = Interruptor()\n",
    "\n",
    "interruptor.mostrar_vida()"
   ]
  },
  {
   "cell_type": "code",
   "execution_count": 56,
   "metadata": {},
   "outputs": [
    {
     "data": {
      "text/plain": [
       "True"
      ]
     },
     "execution_count": 56,
     "metadata": {},
     "output_type": "execute_result"
    }
   ],
   "source": [
    "interruptor.verificar_vida()"
   ]
  },
  {
   "cell_type": "code",
   "execution_count": 57,
   "metadata": {},
   "outputs": [
    {
     "name": "stdout",
     "output_type": "stream",
     "text": [
      "El equipo lleva 0 fallos, continua operativo.\n"
     ]
    }
   ],
   "source": [
    "interruptor.cant_fallos()"
   ]
  },
  {
   "cell_type": "code",
   "execution_count": 61,
   "metadata": {},
   "outputs": [
    {
     "name": "stdout",
     "output_type": "stream",
     "text": [
      "Hay 1 componente(s) muerta(s).\n",
      "Hay 1 componente(s) muerta(s).\n",
      "Hay 1 componente(s) muerta(s).\n",
      "Hay 1 componente(s) muerta(s).\n",
      "Hay 1 componente(s) muerta(s).\n",
      "Hay 1 componente(s) muerta(s).\n",
      "Hay 1 componente(s) muerta(s).\n",
      "Hay 1 componente(s) muerta(s).\n",
      "Hay 1 componente(s) muerta(s).\n",
      "Hay 1 componente(s) muerta(s).\n",
      "Hay 1 componente(s) muerta(s).\n",
      "Hay 1 componente(s) muerta(s).\n",
      "Hay 3 componente(s) muerta(s).\n",
      "Hay 5 componente(s) muerta(s).\n",
      "El equipo soportó 193 fallos, se encuentra inoperativo.\n",
      "Daño actual a las componentes: [102.40846064 102.42496351 100.07394649 100.54323761 100.87429442]\n",
      "Vida actual de las componentes: [-2.40846064 -2.42496351 -0.07394649 -0.54323761 -0.87429442]\n"
     ]
    }
   ],
   "source": [
    "while interruptor.verificar_vida():\n",
    "    interruptor.aplicar_dano()\n",
    "interruptor.cant_fallos()\n",
    "interruptor.mostrar_dano()\n",
    "interruptor.mostrar_vida()"
   ]
  },
  {
   "cell_type": "code",
   "execution_count": 62,
   "metadata": {},
   "outputs": [
    {
     "name": "stdout",
     "output_type": "stream",
     "text": [
      "Todas las componentes están muertas. No se puede aplicar más daño.\n"
     ]
    }
   ],
   "source": [
    "interruptor.aplicar_dano()"
   ]
  },
  {
   "cell_type": "code",
   "execution_count": 63,
   "metadata": {},
   "outputs": [
    {
     "data": {
      "text/plain": [
       "[0.46579579016357786,\n",
       " 3.778946595746013,\n",
       " 1.978328353670633,\n",
       " 1.8575116596003611,\n",
       " 4.0267008095926915,\n",
       " 0.561493567180104,\n",
       " 2.9421450050580074,\n",
       " 3.2401200362121663,\n",
       " 6.561621721098678,\n",
       " 0.606271051321406,\n",
       " 0.4635251181808581,\n",
       " 3.71340315350615,\n",
       " 4.923782717731563,\n",
       " 0.11532178061438347,\n",
       " 4.377446491360749,\n",
       " 1.6280012395902403,\n",
       " 5.116933691559213,\n",
       " 6.213053163831135,\n",
       " 0.0774200743934154,\n",
       " 0.13702581811975212,\n",
       " 5.028148972727017,\n",
       " 2.2625569266972763,\n",
       " 3.205604925266286,\n",
       " 2.1901894266603548,\n",
       " 0.40820835096896857,\n",
       " 1.5424239417661783,\n",
       " 6.103198281662988,\n",
       " 7.1217808642822025,\n",
       " 3.1118162473242563,\n",
       " 7.100020108231474,\n",
       " 1.4468002494262415,\n",
       " 4.600556174747919,\n",
       " 5.124884089526692,\n",
       " 0.8276364672722448,\n",
       " 1.9846324960313209,\n",
       " 1.9910583574390288,\n",
       " 4.094934667371379,\n",
       " 2.663496800806432,\n",
       " 2.522885618328474,\n",
       " 2.73689555043533,\n",
       " 0.4839437557618825,\n",
       " 3.8756912313881324,\n",
       " 0.286070324645358,\n",
       " 3.1718938821110747,\n",
       " 4.389113565457846,\n",
       " 0.6393899007710098,\n",
       " 3.508031709630046,\n",
       " 0.9033387361562594,\n",
       " 3.709558073021139,\n",
       " 2.747682465482409,\n",
       " 2.371751112081277,\n",
       " 4.095227973542833,\n",
       " 0.059411095809650885,\n",
       " 0.6533843120885646,\n",
       " 3.2906988618679973,\n",
       " 2.629994522134445,\n",
       " 1.398581138811297,\n",
       " 0.5644453110176494,\n",
       " 1.1624797028898106,\n",
       " 0.5536894008372621,\n",
       " 1.4897097771672603,\n",
       " 1.0504024070610145,\n",
       " 6.877534402376616,\n",
       " 4.920559278176581,\n",
       " 3.071516476354952,\n",
       " 3.1870496871580514,\n",
       " 4.089663270158654,\n",
       " 4.637988446261113,\n",
       " 3.4855722208263344,\n",
       " 1.6712739329261064,\n",
       " 0.003694405316359045,\n",
       " 2.3397876324948994,\n",
       " 0.7639621685729502,\n",
       " 1.131772537044097,\n",
       " 4.485089889928407,\n",
       " 0.2200146906807721,\n",
       " 2.2206150845646957,\n",
       " 1.9965646522669256,\n",
       " 4.982307913620522,\n",
       " 1.5561455068834769,\n",
       " 5.168187268488268,\n",
       " 1.8778881434415968,\n",
       " 1.8570808043689377,\n",
       " 3.1814171583947957,\n",
       " 0.013150249962810877,\n",
       " 2.6396640877139332,\n",
       " 0.6833067537867554,\n",
       " 2.9566387438322743,\n",
       " 2.4854394990650026,\n",
       " 0.12872199140940938,\n",
       " 1.9911545291832233,\n",
       " 4.384968558618343,\n",
       " 2.4923223017883385,\n",
       " 2.5722437090124872,\n",
       " 2.7057476096279434,\n",
       " 2.140223947932959,\n",
       " 5.403501046247566,\n",
       " 6.265538144976429,\n",
       " 1.404964300900503,\n",
       " 3.2167269720300844,\n",
       " 3.1563504563973233,\n",
       " 3.518122809282997,\n",
       " 3.41963797669848,\n",
       " 0.29528245701962547,\n",
       " 3.3951733114981697,\n",
       " 0.5497722358650698,\n",
       " 0.10562055416462975,\n",
       " 8.013761650230343,\n",
       " 1.5133816599461836,\n",
       " 2.9072135979157574,\n",
       " 2.5763818170098944,\n",
       " 3.8798142475342043,\n",
       " 2.9028617572982545,\n",
       " 4.855987238246406,\n",
       " 5.192238058896316,\n",
       " 4.795310084598352,\n",
       " 2.562672250242204,\n",
       " 0.7520302098212939,\n",
       " 0.2857217750713183,\n",
       " 6.506047137307687,\n",
       " 2.607661190905829,\n",
       " 3.8825931801603386,\n",
       " 0.6220166342053576,\n",
       " 2.472500182071082,\n",
       " 5.398362507008015,\n",
       " 2.504041212319036,\n",
       " 0.6494447911107492,\n",
       " 3.1584976766000548,\n",
       " 1.8773545604254323,\n",
       " 2.2715456703346333,\n",
       " 4.443289511520098,\n",
       " 4.6369433192071146,\n",
       " 2.853595932486405,\n",
       " 3.939645342310476,\n",
       " 4.360502995645651,\n",
       " 1.5164780898514545,\n",
       " 3.267669228435952,\n",
       " 2.3719107996895836,\n",
       " 4.292069131450535,\n",
       " 4.693588916432951,\n",
       " 1.054183999073213,\n",
       " 1.5120013068575224,\n",
       " 1.3904576102936872,\n",
       " 1.318213046805339,\n",
       " 5.3226923132751445,\n",
       " 2.050249068130823,\n",
       " 0.7935408054905103,\n",
       " 0.2587933543620444,\n",
       " 0.09349837901322103,\n",
       " 5.853138187338911,\n",
       " 3.1298777898195462,\n",
       " 7.480978093026055,\n",
       " 0.8271003382363328,\n",
       " 0.11804873397435803,\n",
       " 2.9237300164525664,\n",
       " 2.6784368587129235,\n",
       " 8.74812553125825,\n",
       " 4.543721524106331,\n",
       " 1.0258110382984371,\n",
       " 1.614694859494071,\n",
       " 0.8089586928292575,\n",
       " 0.2971205047207293,\n",
       " 0.8056900342777619,\n",
       " 1.0769091377907292,\n",
       " 1.2148855866161477,\n",
       " 3.5878374396289687,\n",
       " 4.193614646489444,\n",
       " 1.3703964536195226,\n",
       " 1.3514105225033086,\n",
       " 6.723761284414956,\n",
       " 2.4672168899262346,\n",
       " 0.7183623098035257,\n",
       " 0.5539709996347785,\n",
       " 4.273469672254447,\n",
       " 1.0121640058632966,\n",
       " 0.22404514596097874,\n",
       " 1.3977872727428784,\n",
       " 5.7460937299206725,\n",
       " 0.03144046879154251,\n",
       " 5.895663528945986,\n",
       " 3.1257536707919398,\n",
       " 1.7022603428762817,\n",
       " 1.0514100666973263,\n",
       " 1.0315749076614713,\n",
       " 0.24594464117057563,\n",
       " 0.8008822394577355,\n",
       " 0.24085539509322157,\n",
       " 1.120592039813078,\n",
       " 1.109907759774811,\n",
       " 1.8244528456633229,\n",
       " 0.10569056102002361,\n",
       " 2.1703850957033226,\n",
       " 5.206946128762347]"
      ]
     },
     "execution_count": 63,
     "metadata": {},
     "output_type": "execute_result"
    }
   ],
   "source": [
    "interruptor.dano_historial"
   ]
  },
  {
   "cell_type": "code",
   "execution_count": 64,
   "metadata": {},
   "outputs": [
    {
     "data": {
      "image/png": "[encoded data removed]",
      "text/plain": [
       "<Figure size 640x480 with 1 Axes>"
      ]
     },
     "metadata": {},
     "output_type": "display_data"
    }
   ],
   "source": [
    "sns.histplot(interruptor.dano_historial, kde=True, bins=25);"
   ]
  },
  {
   "cell_type": "code",
   "execution_count": 66,
   "metadata": {},
   "outputs": [
    {
     "data": {
      "text/plain": [
       "0.14898803098269497"
      ]
     },
     "execution_count": 66,
     "metadata": {},
     "output_type": "execute_result"
    }
   ],
   "source": [
    "Interruptor().aplicar_dano(True)[0]"
   ]
  },
  {
   "cell_type": "code",
   "execution_count": 73,
   "metadata": {},
   "outputs": [
    {
     "data": {
      "image/png": "[encoded data removed]",
      "text/plain": [
       "<Figure size 640x480 with 1 Axes>"
      ]
     },
     "metadata": {},
     "output_type": "display_data"
    }
   ],
   "source": [
    "plt.hist([Interruptor().aplicar_dano(True)[0] for _ in range(10_000)], edgecolor='k', bins=25, density=True);"
   ]
  },
  {
   "cell_type": "code",
   "execution_count": null,
   "metadata": {},
   "outputs": [],
   "source": []
  }
 ],
 "metadata": {
  "kernelspec": {
   "display_name": "Python 3",
   "language": "python",
   "name": "python3"
  },
  "language_info": {
   "codemirror_mode": {
    "name": "ipython",
    "version": 3
   },
   "file_extension": ".py",
   "mimetype": "text/x-python",
   "name": "python",
   "nbconvert_exporter": "python",
   "pygments_lexer": "ipython3",
   "version": "3.11.4"
  }
 },
 "nbformat": 4,
 "nbformat_minor": 2
}

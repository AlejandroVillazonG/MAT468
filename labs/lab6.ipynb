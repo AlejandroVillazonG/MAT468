{
 "cells": [
  {
   "cell_type": "markdown",
   "metadata": {},
   "source": [
    "# Taller 6"
   ]
  },
  {
   "cell_type": "code",
   "execution_count": 1,
   "metadata": {},
   "outputs": [],
   "source": [
    "import numpy as np\n",
    "import matplotlib.pyplot as plt"
   ]
  },
  {
   "cell_type": "markdown",
   "metadata": {},
   "source": [
    "### 1. Consideremos el siguiente modelo:\n",
    "* $Y~|~\\theta_1,\\theta_2\\sim N\\left(\\frac{\\theta_1+\\theta_2}{2}, 1\\right)$\n",
    "* $\\theta_1, \\theta_2 \\sim N(0,1)$\n",
    "y entonces tendremos que:\n",
    "$$f(\\theta_1, \\theta_2 ~|~ y) \\propto \\exp\\left(-\\frac{1}{2} \\left\\{\\theta_1^2 \\frac{5}{4} + \\theta_2^2 \\frac{5}{4} + \\frac{\\theta_1\\theta_2}{2} - (\\theta_1 + \\theta_2)y\\right\\}\\right)$$\n",
    "\n",
    "* Simule la densidad anterior usando los siguientes algoritmos:\n",
    "    * Algoritmo MALA.\n",
    "    * Metropolis-Hasting con paseo aleatorio (normal).\n",
    "* Pruebe con distintos valores de $\\sigma^2$ (la varianza de las distribuciones instrumentales) hasta obtener un valor que optimice la convergencia.\n",
    "* Compare la velocidad de convergencia de los algoritmos anteriores."
   ]
  },
  {
   "cell_type": "code",
   "execution_count": null,
   "metadata": {},
   "outputs": [],
   "source": []
  }
 ],
 "metadata": {
  "kernelspec": {
   "display_name": "Python 3",
   "language": "python",
   "name": "python3"
  },
  "language_info": {
   "codemirror_mode": {
    "name": "ipython",
    "version": 3
   },
   "file_extension": ".py",
   "mimetype": "text/x-python",
   "name": "python",
   "nbconvert_exporter": "python",
   "pygments_lexer": "ipython3",
   "version": "3.11.4"
  },
  "orig_nbformat": 4
 },
 "nbformat": 4,
 "nbformat_minor": 2
}

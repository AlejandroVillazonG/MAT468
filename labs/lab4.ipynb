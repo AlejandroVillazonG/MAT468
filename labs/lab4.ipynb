{
  "cells": [
    {
      "cell_type": "markdown",
      "metadata": {
        "id": "view-in-github",
        "colab_type": "text"
      },
      "source": [
        "<a href=\"https://colab.research.google.com/github/AlejandroVillazonG/MAT468/blob/main/labs/lab4.ipynb\" target=\"_parent\"><img src=\"https://colab.research.google.com/assets/colab-badge.svg\" alt=\"Open In Colab\"/></a>"
      ]
    },
    {
      "cell_type": "markdown",
      "metadata": {
        "id": "O_L97-lfN-tL"
      },
      "source": [
        "# Taller 4"
      ]
    },
    {
      "cell_type": "code",
      "execution_count": 1,
      "metadata": {
        "id": "yVBNfXFaN-tP"
      },
      "outputs": [],
      "source": [
        "import numpy as np\n",
        "import matplotlib.pyplot as plt"
      ]
    },
    {
      "cell_type": "markdown",
      "metadata": {
        "id": "S4iyrEFlN-tQ"
      },
      "source": [
        "### 1. Se define el modelo autorregresivo de orden 1 (AR(1)) como: $$X_t = \\phi X_{t-1} + \\epsilon_t$$con los $\\epsilon_t$ i.i.d. con $\\epsilon_t \\sim N(0,\\sigma^2)$."
      ]
    },
    {
      "cell_type": "markdown",
      "metadata": {
        "id": "LjrYW1w6N-tQ"
      },
      "source": [
        "#### a) Verifique si es cadena de Markov."
      ]
    },
    {
      "cell_type": "markdown",
      "metadata": {
        "id": "0MIoacH2N-tQ"
      },
      "source": [
        "`Solución:` Verifiquemos la propiedad de Markov. Dado que $\\epsilon_t$ es i.i.d. tenemos que $\\epsilon_t$ es independiente de $X_{t-1},X_{t-2}\\ldots,X_{0}$. Por ende, tenemos lo siguiente\n",
        "\n",
        "$$\n",
        "\\begin{align*}\n",
        "    \\mathbb{P}(X_t = x_t ~|~ X_{t-1} = x_{t-1}, X_{t-2} = x_{t-2}, \\ldots, X_0 = x_0) &= \\mathbb{P}(\\phi X_{t-1} + \\epsilon_t = x_t ~|~ X_{t-1} = x_{t-1}, X_{t-2} = x_{t-2}, \\ldots, X_0 = x_0)\\\\\n",
        "    &= \\mathbb{P}(\\phi X_{t-1} + \\epsilon_t = x_t ~|~ X_{t-1} = x_{t-1})\\\\\n",
        "    &= \\mathbb{P}(X_t = x_t ~|~ X_{t-1} = x_{t-1})\n",
        "\\end{align*}\n",
        "$$"
      ]
    },
    {
      "cell_type": "markdown",
      "metadata": {
        "id": "tMRftmxXN-tQ"
      },
      "source": [
        "#### b) Encuentre la distribución invariante de la cadena (si la tiene) en función de $\\phi$."
      ]
    },
    {
      "cell_type": "markdown",
      "metadata": {
        "id": "DRQ_mCTLN-tR"
      },
      "source": [
        "`Solución:`"
      ]
    },
    {
      "cell_type": "markdown",
      "metadata": {
        "id": "zHfGbWn1N-tR"
      },
      "source": [
        "#### c) Verifique si la distribución invariante es también la distribución límite."
      ]
    },
    {
      "cell_type": "markdown",
      "metadata": {
        "id": "dYrmY2vlN-tR"
      },
      "source": [
        "`Solución:` Primero note que $$X_t = \\phi X_{t-1} + \\epsilon_t = \\phi^2 X_{t-2} + \\phi\\epsilon_{t-1} + \\epsilon_t =  \\phi^3 X_{t-3}+ \\phi^2 \\epsilon_{t-2} + \\phi\\epsilon_{t-1} + \\epsilon_t = \\sum_{i=0}^{t} \\phi^{i}\\epsilon_{t-i}$$\n",
        "Por lo tanto, $X_t$ es suma ponderada de normales con media cero y dada la independecia de los errores tenemos que:\n",
        "$$\\mathbb{V}(X_t)= \\sum_{i=0}^{t} \\mathbb{V}(\\phi^{i}\\epsilon_{t-i}) = \\sum_{i=0}^{t} \\phi^{2i}\\mathbb{V}(\\epsilon_{t-i}) = \\sigma^2 \\sum_{i=0}^{t} \\phi^{2i} $$\n",
        "\n",
        "Luego, si $t\\to\\infty$ como $|\\phi|<1$ tenemos que la distribución límite es $\\text{N}(0, \\sigma^2 / (1-\\phi^2))$.\n",
        "\n",
        "Coincide ??????\n"
      ]
    },
    {
      "cell_type": "markdown",
      "metadata": {
        "id": "fn1oUbV7N-tR"
      },
      "source": [
        "#### d) Verifique si la cadena de Markov es reversible."
      ]
    },
    {
      "cell_type": "markdown",
      "metadata": {
        "id": "dNHJqqkwN-tR"
      },
      "source": [
        "`Solución:`"
      ]
    },
    {
      "cell_type": "markdown",
      "metadata": {
        "id": "jJ5msQL6N-tS"
      },
      "source": [
        "#### e) Simule la cadena de Markov y verifique computacionalmente los incisos anteriores. Para lo anterior considere el siguiente pseudocódigo:\n",
        "\n",
        "> AR(1)\n",
        ">> Dado $X_t = x$:\n",
        ">> 1. Simular $\\epsilon_{t+1} \\sim N(0,\\sigma^2)$\n",
        ">> 2. Definir $X_{t+1} = \\phi X_t + \\epsilon_{t+1}$\n",
        "\n"
      ]
    },
    {
      "cell_type": "code",
      "execution_count": 2,
      "metadata": {
        "id": "9G68OvycN-tS"
      },
      "outputs": [],
      "source": [
        "def AR_1(phi, sigma, N):\n",
        "    '''\n",
        "    phi : float\n",
        "        Coeficiente del modelo AR(1).\n",
        "    sigma : float\n",
        "        Desviación estándar de los errores.\n",
        "    N : int\n",
        "        Iteraciones del modelo.\n",
        "    '''\n",
        "    lista = [np.random.normal(0, sigma)]\n",
        "    for _ in range(N-1):\n",
        "        lista.append(phi * lista[-1] + np.random.normal(0,sigma))\n",
        "    return np.array(lista)"
      ]
    },
    {
      "cell_type": "code",
      "execution_count": 3,
      "metadata": {
        "colab": {
          "base_uri": "https://localhost:8080/",
          "height": 545
        },
        "id": "_kn8nj2bN-tS",
        "outputId": "bbb25613-0aab-44a0-c681-27ec02ac3ed3"
      },
      "outputs": [
        {
          "output_type": "display_data",
          "data": {
            "text/plain": [
              "<Figure size 800x600 with 1 Axes>"
            ],
            "image/png": "[encoded data removed]"
          },
          "metadata": {}
        }
      ],
      "source": [
        "phi = 0.6\n",
        "sigma = 0.1\n",
        "N = 100\n",
        "L = AR_1(phi, sigma, N)\n",
        "\n",
        "plt.figure(figsize = (8,6))\n",
        "plt.plot(np.arange(N),\n",
        "         L,\n",
        "         '-'\n",
        "         )\n",
        "plt.title('Simulación de AR(1)')\n",
        "plt.show()"
      ]
    },
    {
      "cell_type": "markdown",
      "metadata": {
        "id": "xrzA5HKgN-tT"
      },
      "source": [
        "Verifiquemos la distribución límite."
      ]
    },
    {
      "cell_type": "code",
      "execution_count": 4,
      "metadata": {
        "id": "MtUX3XtMN-tT"
      },
      "outputs": [],
      "source": [
        "phi = 0.6\n",
        "sigma = 0.5\n",
        "N = 50_000\n",
        "nro_obs = 2_000\n",
        "\n",
        "puntos = np.linspace(-2,2,1000)\n",
        "f_normal = np.vectorize( lambda x, sigma: np.exp(-x**2/(2*sigma**2)) / np.sqrt(2*np.pi*sigma**2) )"
      ]
    },
    {
      "cell_type": "code",
      "execution_count": 5,
      "metadata": {
        "id": "0-vYc0cYN-tT"
      },
      "outputs": [],
      "source": [
        "L = []\n",
        "for _ in range(nro_obs):\n",
        "    L.append(AR_1(phi, sigma, N)[-1])"
      ]
    },
    {
      "cell_type": "code",
      "execution_count": 6,
      "metadata": {
        "colab": {
          "base_uri": "https://localhost:8080/",
          "height": 546
        },
        "id": "Idx2FJ-DN-tU",
        "outputId": "f800819b-8280-455d-ac04-a6d0b729b1bd"
      },
      "outputs": [
        {
          "output_type": "display_data",
          "data": {
            "text/plain": [
              "<Figure size 800x600 with 1 Axes>"
            ],
            "image/png": "[encoded data removed]"
          },
          "metadata": {}
        }
      ],
      "source": [
        "plt.figure(figsize = (8,6))\n",
        "plt.hist(L,\n",
        "         bins = 50,\n",
        "         density = True,\n",
        "         zorder = 0\n",
        "         )\n",
        "plt.plot(puntos,\n",
        "         f_normal(puntos, sigma / np.sqrt(1-phi**2)),\n",
        "         zorder = 1,\n",
        "         c = 'red',\n",
        "         label = 'Distribución límite esperada'\n",
        "         )\n",
        "plt.title(f'Histograma de $X_N$ con {N = :_}')\n",
        "plt.legend()\n",
        "plt.show()"
      ]
    },
    {
      "cell_type": "markdown",
      "metadata": {
        "id": "ZEm35lR7N-tU"
      },
      "source": [
        "### 2. Considere la matriz de transición:\n",
        "### $$P = \\begin{pmatrix} 0.15 & 0.35 & 0.35 & 0.15 \\\\ 0.166 & 0.334 & 0.334 & 0.166 \\\\ 0.1875 & 0.3125 & 0.3125 & 0.1875 \\\\ 0.2 & 0.3 & 0.3 & 0.2\\end{pmatrix}$$ Que genera secuencias de ADN de nucleótidos A, C, G, T, acorde a una cadena de Markov con la matriz de transición anterior. La distribución inicial es $p_A = 0.2$, $p_C = 0.1$, $p_G = 0.1$, $p_T = 0.6$.\n",
        "### El contenido GC de la cadena de ADN se define como el porcentaje de C’s y G’s de la cadena."
      ]
    },
    {
      "cell_type": "code",
      "execution_count": 7,
      "metadata": {
        "colab": {
          "base_uri": "https://localhost:8080/"
        },
        "id": "O3-WXrcXN-tU",
        "outputId": "80712c76-1d22-46d7-f417-bd11af11c063"
      },
      "outputs": [
        {
          "output_type": "execute_result",
          "data": {
            "text/plain": [
              "array([1., 1., 1., 1.])"
            ]
          },
          "metadata": {},
          "execution_count": 7
        }
      ],
      "source": [
        "P = np.array([\n",
        "    [0.15, 0.35, 0.35, 0.15],\n",
        "    [0.166, 0.334, 0.334, 0.166],\n",
        "    [0.1875, 0.3125, 0.3125, 0.1875],\n",
        "    [0.2, 0.3, 0.3, 0.2]\n",
        "])\n",
        "\n",
        "np.sum(P, axis = 1)"
      ]
    },
    {
      "cell_type": "markdown",
      "metadata": {
        "id": "FYvg2V3mN-tV"
      },
      "source": [
        "#### a) Simule la cadena de Markov anterior considerando 1000 pasos, y calcule el porcentaje de GC. Para lo anterior consideremos $A = 1$, $C = 2$, $G = 3$, $T = 4$ y la cadena de Markov $X_t$ que nos da el nucleotido en la posición $t$. Además use el siguiente pseudocódigo:\n",
        "\n",
        "> Cadena de ADN\n",
        "\n",
        "> Dado $X_t = x$:\n",
        ">>1. Definir $p = P_x$, ie $p$ es la columna x-ésima de $P$\n",
        ">>2. Generar $U \\sim U[0,1]$\n",
        ">>3. Para $i=1$:\n",
        ">>    \n",
        ">>    Si $u\\leq \\sum_{j=1}^i p_i$:\n",
        ">>    \n",
        ">>    1. $X_{t+1} = i$\n",
        ">>    2. Break"
      ]
    },
    {
      "cell_type": "code",
      "execution_count": 8,
      "metadata": {
        "colab": {
          "base_uri": "https://localhost:8080/",
          "height": 36
        },
        "id": "CzrILtlPN-tV",
        "outputId": "6f07ba03-68bd-4b14-f656-9a3544ca640a"
      },
      "outputs": [
        {
          "output_type": "execute_result",
          "data": {
            "text/plain": [
              "'T'"
            ],
            "application/vnd.google.colaboratory.intrinsic+json": {
              "type": "string"
            }
          },
          "metadata": {},
          "execution_count": 8
        }
      ],
      "source": [
        "np.random.choice(['A', 'C', 'G', 'T'], p = [0.2,0.1,0.1,0.6])\n"
      ]
    },
    {
      "cell_type": "code",
      "execution_count": 9,
      "metadata": {
        "id": "RLMpqUr6N-tW"
      },
      "outputs": [],
      "source": [
        "def ADN(P, N = 1_000):\n",
        "    nucleotidos = ['A', 'C', 'G', 'T']\n",
        "    L = [np.random.choice(nucleotidos, p = [0.2,0.1,0.1,0.6])] # Iniciamos la cadena según la distribución inicial.\n",
        "    for _ in range(N):\n",
        "        L.append(np.random.choice(nucleotidos, p = P[nucleotidos.index(L[-1])]))\n",
        "    return np.array(L)"
      ]
    },
    {
      "cell_type": "code",
      "execution_count": 10,
      "metadata": {
        "colab": {
          "base_uri": "https://localhost:8080/"
        },
        "id": "VQxGDh8xN-tW",
        "outputId": "4fc9ddb8-d3a5-4b88-b213-9fa745003d5e"
      },
      "outputs": [
        {
          "output_type": "execute_result",
          "data": {
            "text/plain": [
              "0.646"
            ]
          },
          "metadata": {},
          "execution_count": 10
        }
      ],
      "source": [
        "L = ADN(P)\n",
        "\n",
        "# Porcentaje de GC\n",
        "L[(L =='G') | (L == 'C')].size / 1_000"
      ]
    },
    {
      "cell_type": "markdown",
      "metadata": {
        "id": "6B-0T0rNN-tW"
      },
      "source": [
        "#### b) Verifique si la cadena tiene distribucion invariante."
      ]
    },
    {
      "cell_type": "markdown",
      "metadata": {
        "id": "h0NDqQ9_N-tW"
      },
      "source": [
        "`Solución:` Buscamos $\\pi = (\\pi_1, \\pi_2, \\pi_3, \\pi_4)$ tal que, $\\sum \\pi_i = 1$, $\\pi_i \\geq 0$ y $\\pi = \\pi P$. Por lo tanto, buscamos un vector propio con valor propio 1 de la matriz $P^\\top$.\n",
        "\n",
        "Según WolframAlpha el espacio propio de $\\lambda = 1$ es $\\langle \\left(1, \\frac{1300}{707}, \\frac{1300}{707}, 1\\right)\\rangle$. Por lo tanto, la distribución invariante $\\pi$ viene dada por:\n",
        "$$\\pi = \\left(\\frac{707}{4014}, \\frac{1300}{4014}, \\frac{1300}{4014}, \\frac{707}{4014}\\right).$$"
      ]
    },
    {
      "cell_type": "code",
      "execution_count": 11,
      "metadata": {
        "colab": {
          "base_uri": "https://localhost:8080/"
        },
        "id": "dHS82HXtN-tX",
        "outputId": "1cefe506-9359-42c2-8fb8-cdf0ba6746f3"
      },
      "outputs": [
        {
          "output_type": "execute_result",
          "data": {
            "text/plain": [
              "array([0.17613353, 0.32386647, 0.32386647, 0.17613353])"
            ]
          },
          "metadata": {},
          "execution_count": 11
        }
      ],
      "source": [
        "pi = np.array([707/4014, 1300/4014, 1300/4014, 707/4014])\n",
        "pi"
      ]
    },
    {
      "cell_type": "markdown",
      "metadata": {
        "id": "BTYQGt-tN-tX"
      },
      "source": [
        "#### c) Encuentre computacionalmente (a través de simulaciones) y analíticamente la distribución límite de la cadena.\n",
        "\n",
        "#### __Hint:__ Puede usar los resultados conocidos de anteriores cursos."
      ]
    },
    {
      "cell_type": "markdown",
      "metadata": {
        "id": "gB6oRCvPN-tX"
      },
      "source": [
        "`Solución:` Analíticamente, sabemos que la distribución límite se obtiene como fila en la matriz: $\\lim_{n\\to\\infty} P^n$.\n",
        "\n",
        "De WolframAlpha tenemos que la diagonalización de la matriz $P$ viene dada por $P = S D S^{-1}$ donde\n",
        "\n",
        "$$S = \\begin{pmatrix} -1049/958 & -1 & 0 & 1 \\\\ -10169/23950 & 0 & -1 & 1 \\\\ 1825/3832 & 0 & 1 & 1 \\\\ 1 & 1 & 0 & 1 \\end{pmatrix} \\qquad D = \\operatorname{diag}(-7/2000, 0, 0, 1)$$\n",
        "\n",
        "Luego, note que\n",
        "\n",
        "$$\\lim_{n\\to \\infty} P^n = S\\left(\\lim_{n\\to \\infty} D^n\\right)S^{-1} = S \\left(\\operatorname{diag}(0, 0, 0, 1) \\right) S^{-1} =\n",
        "\\begin{pmatrix} fila \\\\ fila\\\\ fila \\\\ fila \\end{pmatrix}$$\n",
        "\n",
        "donde $$fila =  \\left(\\frac{707}{4014}, \\frac{650}{2007}, \\frac{650}{2007},\\frac{707}{4014} \\right) = \\pi$$\n",
        "\n",
        "Por lo tanto, la distribución límite corresponde a la invariante.\n"
      ]
    },
    {
      "cell_type": "code",
      "execution_count": 12,
      "metadata": {
        "colab": {
          "base_uri": "https://localhost:8080/"
        },
        "id": "ULdN-7QhN-tX",
        "outputId": "f4eb2a41-cbbe-4335-acca-44d3d6d8f5d7"
      },
      "outputs": [
        {
          "output_type": "execute_result",
          "data": {
            "text/plain": [
              "array([[0.15  , 0.35  , 0.35  , 0.15  ],\n",
              "       [0.166 , 0.334 , 0.334 , 0.166 ],\n",
              "       [0.1875, 0.3125, 0.3125, 0.1875],\n",
              "       [0.2   , 0.3   , 0.3   , 0.2   ]])"
            ]
          },
          "metadata": {},
          "execution_count": 12
        }
      ],
      "source": [
        "S = np.array([[-1049/958, -1, 0, 1],\n",
        "              [-10169/23950, 0, -1, 1],\n",
        "              [1825/3832, 0, 1, 1],\n",
        "              [1, 1, 0, 1]])\n",
        "\n",
        "D = np.diag([-7/2000,0,0,1])\n",
        "\n",
        "S @ D @ np.linalg.inv(S)"
      ]
    },
    {
      "cell_type": "code",
      "execution_count": 13,
      "metadata": {
        "colab": {
          "base_uri": "https://localhost:8080/"
        },
        "id": "BmgSgSYaN-tX",
        "outputId": "05222772-b0e4-4156-fcf5-efa7a95a05ae"
      },
      "outputs": [
        {
          "output_type": "execute_result",
          "data": {
            "text/plain": [
              "array([[0.17613353, 0.32386647, 0.32386647, 0.17613353],\n",
              "       [0.17613353, 0.32386647, 0.32386647, 0.17613353],\n",
              "       [0.17613353, 0.32386647, 0.32386647, 0.17613353],\n",
              "       [0.17613353, 0.32386647, 0.32386647, 0.17613353]])"
            ]
          },
          "metadata": {},
          "execution_count": 13
        }
      ],
      "source": [
        "S @ np.diag([0,0,0,1]) @ np.linalg.inv(S)"
      ]
    },
    {
      "cell_type": "code",
      "execution_count": 14,
      "metadata": {
        "colab": {
          "base_uri": "https://localhost:8080/"
        },
        "id": "_81UoDGoN-tY",
        "outputId": "1385ee66-dd0a-43fd-ac60-e52cdfa0b0ae"
      },
      "outputs": [
        {
          "output_type": "execute_result",
          "data": {
            "text/plain": [
              "array([0.17613353, 0.32386647, 0.32386647, 0.17613353])"
            ]
          },
          "metadata": {},
          "execution_count": 14
        }
      ],
      "source": [
        "pi"
      ]
    },
    {
      "cell_type": "markdown",
      "metadata": {
        "id": "Xpby1PsxN-tY"
      },
      "source": [
        "Veamos computacionalmente. Para aproximar la distribución límite se contará las veces que aparece cada nucleótido y se dividirá por el largo de la cadena."
      ]
    },
    {
      "cell_type": "code",
      "execution_count": 15,
      "metadata": {
        "colab": {
          "base_uri": "https://localhost:8080/"
        },
        "id": "XyBcE7k2N-tY",
        "outputId": "75df3378-3aca-4c69-a57b-95ad210f7a2f"
      },
      "outputs": [
        {
          "output_type": "execute_result",
          "data": {
            "text/plain": [
              "array([0.176511, 0.32344 , 0.324173, 0.175877])"
            ]
          },
          "metadata": {},
          "execution_count": 15
        }
      ],
      "source": [
        "N = 1_000_000\n",
        "L = ADN(P, N)\n",
        "\n",
        "np.unique(L, return_counts = True)[1] / N"
      ]
    },
    {
      "cell_type": "markdown",
      "metadata": {
        "id": "Y4ymsDlqN-tY"
      },
      "source": [
        "Notamos que en efecto se aproxima a $\\pi$."
      ]
    }
  ],
  "metadata": {
    "kernelspec": {
      "display_name": "Python 3",
      "name": "python3"
    },
    "language_info": {
      "codemirror_mode": {
        "name": "ipython",
        "version": 3
      },
      "file_extension": ".py",
      "mimetype": "text/x-python",
      "name": "python",
      "nbconvert_exporter": "python",
      "pygments_lexer": "ipython3",
      "version": "3.11.4"
    },
    "orig_nbformat": 4,
    "colab": {
      "provenance": [],
      "gpuType": "T4",
      "include_colab_link": true
    },
    "accelerator": "GPU"
  },
  "nbformat": 4,
  "nbformat_minor": 0
}